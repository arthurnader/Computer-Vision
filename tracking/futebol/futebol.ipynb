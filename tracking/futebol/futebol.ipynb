{
 "cells": [
  {
   "cell_type": "markdown",
   "id": "b361a9e4",
   "metadata": {},
   "source": [
    "## Bibliotecas"
   ]
  },
  {
   "cell_type": "code",
   "execution_count": 1,
   "id": "e2b4887c",
   "metadata": {},
   "outputs": [],
   "source": [
    "import cv2\n",
    "import numpy as np\n",
    "import random\n",
    "import glob"
   ]
  },
  {
   "cell_type": "markdown",
   "id": "265ccc1a",
   "metadata": {},
   "source": [
    "## Rastreamento"
   ]
  },
  {
   "cell_type": "code",
   "execution_count": 2,
   "id": "0177c73f",
   "metadata": {},
   "outputs": [],
   "source": [
    "video = cv2.VideoCapture(\"gol-de-casemiro.mp4\")\n",
    "size = (int(video.get(cv2.CAP_PROP_FRAME_WIDTH)), int(video.get(cv2.CAP_PROP_FRAME_HEIGHT)))\n",
    "fourcc = cv2.VideoWriter_fourcc(*'MPEG')\n",
    "out = cv2.VideoWriter('tracking.avi',fourcc, 20, size)"
   ]
  },
  {
   "cell_type": "code",
   "execution_count": 3,
   "id": "08c0bef1",
   "metadata": {},
   "outputs": [],
   "source": [
    "trackers = cv2.legacy.MultiTracker_create()\n",
    "cap = cv2.VideoCapture(\"gol-de-casemiro.mp4\")\n",
    "ok, frame = cap.read()\n",
    "\n",
    "boxes = [cv2.selectROI('MultiTracker', frame), cv2.selectROI('MultiTracker', frame), cv2.selectROI('MultiTracker', frame), cv2.selectROI('MultiTracker', frame)]\n",
    "colors = [(225, 0, 0), (0, 210, 225), (0,255,0), (210, 210, 210)]\n",
    "\n",
    "for box in boxes:\n",
    "    tracker = cv2.legacy.TrackerCSRT_create()\n",
    "    trackers.add(tracker, frame, box)\n",
    "\n",
    "while cap.isOpened():\n",
    "\n",
    "    ret, frame = cap.read()\n",
    "\n",
    "    if  not ret:\n",
    "        break\n",
    "\n",
    "    (success, boxes) = trackers.update(frame)\n",
    "    for i in range(len(boxes)):\n",
    "        (x, y, w, h) = [int(v) for v in boxes[i]]\n",
    "        cv2.rectangle(frame, (x, y), (x + w, y + h), colors[i], 2, 1)\n",
    "        if i ==0:\n",
    "            cv2.putText(frame, \"Malvadeza\", (x,y-5), cv2.FONT_HERSHEY_SIMPLEX, 1, (225,0,0), 2)\n",
    "        elif i ==1:\n",
    "            cv2.putText(frame, \"Casimiro\", (x,y-5), cv2.FONT_HERSHEY_SIMPLEX, 1, (0, 210 , 225), 2)\n",
    "        elif i ==2:\n",
    "            cv2.putText(frame, \"Rayo\", (x,y-5), cv2.FONT_HERSHEY_SIMPLEX, 1, (0,225,0), 2)\n",
    "        else:\n",
    "            pass\n",
    "            \n",
    "    out.write(frame)    \n",
    "    \n",
    "    cv2.imshow(\"Frame\", frame)\n",
    "    if cv2.waitKey(1) & 0XFF == 27:\n",
    "        break\n",
    "\n",
    "cap.release()\n",
    "out.release()\n",
    "cv2.destroyAllWindows()"
   ]
  },
  {
   "cell_type": "code",
   "execution_count": null,
   "id": "d868e460",
   "metadata": {},
   "outputs": [],
   "source": []
  }
 ],
 "metadata": {
  "kernelspec": {
   "display_name": "Python 3 (ipykernel)",
   "language": "python",
   "name": "python3"
  },
  "language_info": {
   "codemirror_mode": {
    "name": "ipython",
    "version": 3
   },
   "file_extension": ".py",
   "mimetype": "text/x-python",
   "name": "python",
   "nbconvert_exporter": "python",
   "pygments_lexer": "ipython3",
   "version": "3.12.3"
  }
 },
 "nbformat": 4,
 "nbformat_minor": 5
}
