{
 "cells": [
  {
   "cell_type": "markdown",
   "id": "ed40ef72",
   "metadata": {},
   "source": [
    "## Bibliotecas"
   ]
  },
  {
   "cell_type": "code",
   "execution_count": 1,
   "id": "e2b4887c",
   "metadata": {},
   "outputs": [],
   "source": [
    "import cv2\n",
    "import numpy as np\n",
    "import random\n",
    "import glob"
   ]
  },
  {
   "cell_type": "markdown",
   "id": "a5b4fe6d",
   "metadata": {},
   "source": [
    "## Detecção"
   ]
  },
  {
   "cell_type": "code",
   "execution_count": 2,
   "id": "6e75b378",
   "metadata": {},
   "outputs": [],
   "source": [
    "def detectarPoligonos(frame):\n",
    "\n",
    "    img_cinza = cv2.cvtColor(frame, cv2.COLOR_BGR2GRAY)\n",
    "    imagens_binarias = []\n",
    "    for tresh in [100,180,200,110,225,215]:\n",
    "        imagens_binarias.append(cv2.threshold(img_cinza, tresh, 255, 0)[1])\n",
    "    \n",
    "    deteccoes = []\n",
    "    for img_bin in imagens_binarias:\n",
    "        deteccoes += cv2.findContours(img_bin, cv2.RETR_LIST, cv2.CHAIN_APPROX_SIMPLE)[0]\n",
    "    \n",
    "    deteccoes = [det for det in deteccoes if cv2.contourArea(det) < 1150.0 and cv2.contourArea(det) > 800.0 \n",
    "                 and np.max(det[0].T[1])<int(0.40*frame.shape[0]) and np.max(det[0].T[1])>int(0.10*frame.shape[0])]\n",
    "    \n",
    "    for det in deteccoes:\n",
    "        det = cv2.convexHull(det)\n",
    "        quad = cv2.approxPolyDP(det, 0.02 * cv2.arcLength(det, True), True)\n",
    "        if len(quad) >=4 and len(quad) <= 8:\n",
    "            cv2.drawContours(frame, [quad], -1, (0,255,255), 2)\n",
    "    \n",
    "    return frame"
   ]
  },
  {
   "cell_type": "markdown",
   "id": "265ccc1a",
   "metadata": {},
   "source": [
    "## Rastreamento"
   ]
  },
  {
   "cell_type": "code",
   "execution_count": 3,
   "id": "0177c73f",
   "metadata": {},
   "outputs": [],
   "source": [
    "rastreador = cv2.TrackerKCF_create()\n",
    "video = cv2.VideoCapture(\"f1.mp4\")\n",
    "size = (int(video.get(cv2.CAP_PROP_FRAME_WIDTH)), int(video.get(cv2.CAP_PROP_FRAME_HEIGHT)))\n",
    "fourcc = cv2.VideoWriter_fourcc(*'MPEG')\n",
    "out = cv2.VideoWriter('tracking.avi',fourcc, 36, size)"
   ]
  },
  {
   "cell_type": "code",
   "execution_count": 4,
   "id": "08c0bef1",
   "metadata": {},
   "outputs": [],
   "source": [
    "trackers = cv2.legacy.MultiTracker_create()\n",
    "cap = cv2.VideoCapture(\"f1.mp4\")\n",
    "ok, frame = cap.read()\n",
    "\n",
    "boxes = [cv2.selectROI('MultiTracker', frame), cv2.selectROI('MultiTracker', frame)]\n",
    "colors = [(255, 0, 0), (0,0,255)]\n",
    "\n",
    "for box in boxes:\n",
    "    tracker = cv2.legacy.TrackerKCF_create()\n",
    "    trackers.add(tracker, frame, box)\n",
    "\n",
    "while cap.isOpened():\n",
    "\n",
    "    ret, frame = cap.read()\n",
    "\n",
    "    if  not ret:\n",
    "        break\n",
    "\n",
    "    (success, boxes) = trackers.update(frame)\n",
    "    for i in range(len(boxes)):\n",
    "        (x, y, w, h) = [int(v) for v in boxes[i]]\n",
    "        cv2.rectangle(frame, (x, y), (x + w, y + h), colors[i], 2, 1)\n",
    "        if i ==0:\n",
    "            cv2.putText(frame, \"PEREZ\", (x,y-5), cv2.FONT_HERSHEY_SIMPLEX, 1, (255,0,0), 2)\n",
    "        else:\n",
    "            cv2.putText(frame, \"LECLERC\", (x,y-5), cv2.FONT_HERSHEY_SIMPLEX, 1, (0,0,255), 2)\n",
    "\n",
    "    frame = detectarPoligonos(frame)\n",
    "    out.write(frame)    \n",
    "    \n",
    "    cv2.imshow(\"Frame\", frame)\n",
    "    if cv2.waitKey(1) & 0XFF == 27:\n",
    "        break\n",
    "\n",
    "cap.release()\n",
    "out.release()\n",
    "cv2.destroyAllWindows()"
   ]
  },
  {
   "cell_type": "code",
   "execution_count": null,
   "id": "d868e460",
   "metadata": {},
   "outputs": [],
   "source": []
  }
 ],
 "metadata": {
  "kernelspec": {
   "display_name": "Python 3 (ipykernel)",
   "language": "python",
   "name": "python3"
  },
  "language_info": {
   "codemirror_mode": {
    "name": "ipython",
    "version": 3
   },
   "file_extension": ".py",
   "mimetype": "text/x-python",
   "name": "python",
   "nbconvert_exporter": "python",
   "pygments_lexer": "ipython3",
   "version": "3.12.3"
  }
 },
 "nbformat": 4,
 "nbformat_minor": 5
}
